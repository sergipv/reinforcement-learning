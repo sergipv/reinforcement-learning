{
 "cells": [
  {
   "cell_type": "markdown",
   "metadata": {},
   "source": [
    "# Navigation\n",
    "---\n",
    "\n",
    "This notebook contains a training solution for a Reinforcement Learning project, in which an actor has to collect specific objects (yellow bananas) while avoiding others (blue bananas) in a closed space.\n"
   ]
  },
  {
   "cell_type": "code",
   "execution_count": 1,
   "metadata": {},
   "outputs": [],
   "source": [
    "from unityagents import UnityEnvironment\n",
    "\n",
    "import matplotlib.pyplot as plt\n",
    "import numpy as np\n",
    "import random\n",
    "import sys\n",
    "import torch"
   ]
  },
  {
   "cell_type": "code",
   "execution_count": 2,
   "metadata": {},
   "outputs": [
    {
     "name": "stderr",
     "output_type": "stream",
     "text": [
      "INFO:unityagents:\n",
      "'Academy' started successfully!\n",
      "Unity Academy name: Academy\n",
      "        Number of Brains: 1\n",
      "        Number of External Brains : 1\n",
      "        Lesson number : 0\n",
      "        Reset Parameters :\n",
      "\t\t\n",
      "Unity brain name: BananaBrain\n",
      "        Number of Visual Observations (per agent): 0\n",
      "        Vector Observation space type: continuous\n",
      "        Vector Observation space size (per agent): 37\n",
      "        Number of stacked Vector Observation: 1\n",
      "        Vector Action space type: discrete\n",
      "        Vector Action space size (per agent): 4\n",
      "        Vector Action descriptions: , , , \n"
     ]
    }
   ],
   "source": [
    "# Linux x86_64\n",
    "env = UnityEnvironment(file_name=\"Banana_Linux/Banana.x86_64\", no_graphics=True, worker_id=1, seed=1)"
   ]
  },
  {
   "cell_type": "markdown",
   "metadata": {},
   "source": [
    "Unity environments contain brains, which encapsulate the decision making process. Every agent must be assigned a brain (and more than one agent can use the same brain). From [this link](https://github.com/Unity-Technologies/ml-agents/blob/master/docs/Learning-Environment-Design-Brains.md), there are three kind of brains: learning, heuristic and player.\n",
    "\n",
    "To solve this project, we use de default brain."
   ]
  },
  {
   "cell_type": "code",
   "execution_count": 3,
   "metadata": {},
   "outputs": [],
   "source": [
    "brain_name = env.brain_names[0]\n",
    "brain = env.brains[brain_name]"
   ]
  },
  {
   "cell_type": "markdown",
   "metadata": {},
   "source": [
    "## Exploring the environment"
   ]
  },
  {
   "cell_type": "code",
   "execution_count": 4,
   "metadata": {},
   "outputs": [
    {
     "name": "stdout",
     "output_type": "stream",
     "text": [
      "Number of agents: 1\n",
      "Number of actions: 4\n",
      "Number of dimension of the state: 37\n"
     ]
    }
   ],
   "source": [
    "env_info = env.reset(train_mode=True)[brain_name]\n",
    "\n",
    "num_actions = brain.vector_action_space_size\n",
    "num_states = len(env_info.vector_observations[0])\n",
    "\n",
    "print('Number of agents: {}'.format(len(env_info.agents)))\n",
    "print('Number of actions: {}'.format(num_actions))\n",
    "print('Number of dimension of the state: {}'.format(num_states))"
   ]
  },
  {
   "cell_type": "markdown",
   "metadata": {},
   "source": [
    "## Training an agent"
   ]
  },
  {
   "cell_type": "code",
   "execution_count": 5,
   "metadata": {},
   "outputs": [],
   "source": [
    "from Agent import Agent\n",
    "from collections import deque\n",
    "from DQN import DQN\n",
    "from ReplayBuffer import ReplayBuffer\n",
    "from typing import List"
   ]
  },
  {
   "cell_type": "code",
   "execution_count": 6,
   "metadata": {},
   "outputs": [],
   "source": [
    "device = torch.device(\"cuda\" if torch.cuda.is_available() else \"cpu\")"
   ]
  },
  {
   "cell_type": "code",
   "execution_count": 7,
   "metadata": {},
   "outputs": [],
   "source": [
    "def train(agent: Agent, env: UnityEnvironment, n_episodes: int, max_t: int, filename_pth: str, eps_start=1.0, eps_end=0.01, eps_decay=0.995) -> List[int]:\n",
    "    \"\"\"\n",
    "    Trains an agent.\n",
    "    \n",
    "    Params:\n",
    "        agent: agent to be trained.\n",
    "        n_episodes: number of episodes we use to train the agent.\n",
    "        filename_pth: path where the weights of the network are stored.\n",
    "    Returns:\n",
    "        A List with all scores obtained during training.\n",
    "    \"\"\"\n",
    "    all_scores = []\n",
    "    # We need to keep the last 100 scores to finish when avg(last_scores) >= 13.\n",
    "    last_scores = deque(maxlen=100)\n",
    "    eps = eps_start\n",
    "    \n",
    "    for i in range(1, n_episodes+1):\n",
    "        env_info = env.reset(train_mode=True)[brain_name]\n",
    "        state = env_info.vector_observations[0]\n",
    "        score = 0\n",
    "        \n",
    "        for t in range(0, max_t):\n",
    "            action = agent.next_action(state, eps)\n",
    "            env_info = env.step(action.item())[brain_name]\n",
    "            next_state = env_info.vector_observations[0]\n",
    "            reward = env_info.rewards[0]\n",
    "            done = env_info.local_done[0]\n",
    "            agent.train(state, action, reward, next_state, done)\n",
    "            score += reward\n",
    "            \n",
    "            if done:\n",
    "                break\n",
    "            \n",
    "            state = next_state\n",
    "            \n",
    "        last_scores.append(score)\n",
    "        all_scores.append(score)\n",
    "        mean_last_scores = np.mean(last_scores)\n",
    "        eps = max(eps_end, eps_decay*eps)\n",
    "        \n",
    "        if i % 50 == 0:\n",
    "            print('Episode {} with score: {:.2f}'.format(i, mean_last_scores.item()))\n",
    "            sys.stdout.flush()\n",
    "                \n",
    "        if mean_last_scores >= 13:\n",
    "            print(\"Solved in {} episodes with score {:.2f}\".format(i, mean_last_scores.item()))\n",
    "            agent.save_nn(filename_pth)\n",
    "            break\n",
    "    return all_scores"
   ]
  },
  {
   "cell_type": "code",
   "execution_count": 8,
   "metadata": {},
   "outputs": [],
   "source": [
    "rb = ReplayBuffer(10000, seed=13)\n",
    "model = DQN(num_states, num_actions).to(device)\n",
    "batch_size = 64\n",
    "samples_to_train = 4\n",
    "\n",
    "# default gamma=0.95\n",
    "agent = Agent(model, rb, num_actions, batch_size, samples_to_train, device)"
   ]
  },
  {
   "cell_type": "code",
   "execution_count": 9,
   "metadata": {},
   "outputs": [
    {
     "name": "stdout",
     "output_type": "stream",
     "text": [
      "Episode 50 with score: 0.42\n",
      "Episode 100 with score: 0.19\n",
      "Episode 150 with score: 1.13\n",
      "Episode 200 with score: 3.09\n",
      "Episode 250 with score: 5.27\n",
      "Episode 300 with score: 6.97\n",
      "Episode 350 with score: 8.08\n",
      "Episode 400 with score: 9.39\n",
      "Episode 450 with score: 11.08\n",
      "Episode 500 with score: 12.49\n",
      "Episode 550 with score: 12.74\n",
      "Episode 600 with score: 12.03\n",
      "Episode 650 with score: 12.77\n",
      "Solved in 654 episodes with score 13.02\n",
      "872.2634034156799 seconds\n"
     ]
    }
   ],
   "source": [
    "import time\n",
    "\n",
    "n_episodes = 5000\n",
    "max_t = 1000\n",
    "filename_weights = 'tmp.pth'\n",
    "start_time = time.time()\n",
    "scores = train(agent, env, n_episodes, max_t, filename_weights)\n",
    "print(\"{} seconds\".format(time.time() - start_time))"
   ]
  },
  {
   "cell_type": "code",
   "execution_count": 10,
   "metadata": {},
   "outputs": [
    {
     "data": {
      "image/png": "[encoded data removed]",
      "text/plain": [
       "<Figure size 432x288 with 1 Axes>"
      ]
     },
     "metadata": {
      "needs_background": "light"
     },
     "output_type": "display_data"
    }
   ],
   "source": [
    "# plot the scores\n",
    "fig = plt.figure()\n",
    "ax = fig.add_subplot(111)\n",
    "plt.plot(np.arange(len(scores)), scores)\n",
    "plt.ylabel('Score')\n",
    "plt.xlabel('Episode #')\n",
    "plt.show()"
   ]
  }
 ],
 "metadata": {
  "kernelspec": {
   "display_name": "Python 3",
   "language": "python",
   "name": "python3"
  },
  "language_info": {
   "codemirror_mode": {
    "name": "ipython",
    "version": 3
   },
   "file_extension": ".py",
   "mimetype": "text/x-python",
   "name": "python",
   "nbconvert_exporter": "python",
   "pygments_lexer": "ipython3",
   "version": "3.6.9"
  }
 },
 "nbformat": 4,
 "nbformat_minor": 2
}
